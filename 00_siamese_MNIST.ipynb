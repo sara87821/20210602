{
  "nbformat": 4,
  "nbformat_minor": 0,
  "metadata": {
    "colab": {
      "name": "00_siamese_MNIST.ipynb",
      "provenance": [],
      "collapsed_sections": [],
      "include_colab_link": true
    },
    "kernelspec": {
      "name": "python3",
      "display_name": "Python 3"
    },
    "accelerator": "GPU"
  },
  "cells": [
    {
      "cell_type": "markdown",
      "metadata": {
        "id": "view-in-github",
        "colab_type": "text"
      },
      "source": [
        "<a href=\"https://colab.research.google.com/github/sara87821/20210602/blob/main/00_siamese_MNIST.ipynb\" target=\"_parent\"><img src=\"https://colab.research.google.com/assets/colab-badge.svg\" alt=\"Open In Colab\"/></a>"
      ]
    },
    {
      "cell_type": "code",
      "metadata": {
        "id": "hlv7TphrFs2z"
      },
      "source": [
        "import numpy as np\n",
        "import matplotlib.pyplot as plt\n",
        "\n",
        "import random\n",
        "from keras.datasets import mnist\n",
        "from keras.models import Model\n",
        "from keras.layers import Input, Flatten, Dense, Dropout, Lambda\n",
        "from keras.optimizers import RMSprop, Adam\n",
        "from keras import backend as K\n",
        "from keras.utils import plot_model\n",
        "\n",
        "\n",
        "num_classes = 10\n",
        "epochs = 20\n",
        "\n",
        "\n",
        "def euclidean_distance(vects):\n",
        "    x, y = vects\n",
        "    sum_square = K.sum(K.square(x - y), axis=1, keepdims=True)\n",
        "    return K.sqrt(K.maximum(sum_square, K.epsilon()))\n",
        "\n",
        "\n",
        "def eucl_dist_output_shape(shapes):\n",
        "    shape1, shape2 = shapes\n",
        "    return (shape1[0], 1)\n",
        "\n",
        "\n",
        "def contrastive_loss(y_true, y_pred):\n",
        "    '''Contrastive loss from Hadsell-et-al.'06\n",
        "    http://yann.lecun.com/exdb/publis/pdf/hadsell-chopra-lecun-06.pdf\n",
        "    '''\n",
        "    margin = 1\n",
        "    square_pred = K.square(y_pred)\n",
        "    margin_square = K.square(K.maximum(margin - y_pred, 0))\n",
        "    return K.mean(y_true * square_pred + (1 - y_true) * margin_square)\n",
        "\n",
        "\n",
        "def create_pairs(x, digit_indices):\n",
        "    '''Positive and negative pair creation.\n",
        "    Alternates between positive and negative pairs.\n",
        "    '''\n",
        "    pairs = []\n",
        "    labels = []\n",
        "    n = min([len(digit_indices[d]) for d in range(num_classes)]) - 1\n",
        "    for d in range(num_classes):\n",
        "        for i in range(n):\n",
        "            # Positive\n",
        "            z1, z2 = digit_indices[d][i], digit_indices[d][i + 1]\n",
        "            pairs += [[x[z1], x[z2]]]\n",
        "            # Negative\n",
        "            inc = random.randrange(1, num_classes)\n",
        "            dn = (d + inc) % num_classes\n",
        "            z1, z2 = digit_indices[d][i], digit_indices[dn][i]\n",
        "            pairs += [[x[z1], x[z2]]]\n",
        "            \n",
        "            labels += [1, 0]\n",
        "    return np.array(pairs), np.array(labels)\n",
        "\n",
        "\n",
        "def create_base_network(input_shape):\n",
        "    '''Base network to be shared (eq. to feature extraction).\n",
        "    '''\n",
        "    input = Input(shape=input_shape)\n",
        "    x = Flatten()(input)\n",
        "    x = Dense(128, activation='relu')(x)\n",
        "    x = Dropout(0.1)(x)\n",
        "    x = Dense(128, activation='relu')(x)\n",
        "    x = Dropout(0.1)(x)\n",
        "    x = Dense(128, activation='relu')(x)\n",
        "    \n",
        "    return Model(input, x)\n",
        "\n",
        "\n",
        "def compute_accuracy(y_true, y_pred):\n",
        "    '''Compute classification accuracy with a fixed threshold on distances.\n",
        "    '''\n",
        "    pred = y_pred.ravel() < 0.5\n",
        "    return np.mean(pred == y_true)\n",
        "\n",
        "\n",
        "def accuracy(y_true, y_pred):\n",
        "    '''Compute classification accuracy with a fixed threshold on distances.\n",
        "    '''\n",
        "    return K.mean(K.equal(y_true, K.cast(y_pred < 0.5, y_true.dtype)))\n"
      ],
      "execution_count": null,
      "outputs": []
    },
    {
      "cell_type": "code",
      "metadata": {
        "id": "Iiatc3RtGhxV"
      },
      "source": [
        "# the data, split between train and test sets\n",
        "(x_train, y_train), (x_test, y_test) = mnist.load_data()\n",
        "x_train = x_train.astype('float32')\n",
        "x_test = x_test.astype('float32')\n",
        "x_train /= 255\n",
        "x_test /= 255\n",
        "input_shape = x_train.shape[1:]\n",
        "\n",
        "# create training+test positive and negative pairs\n",
        "digit_indices = [np.where(y_train == i)[0] for i in range(num_classes)]\n",
        "tr_pairs, tr_y = create_pairs(x_train, digit_indices)\n",
        "\n",
        "digit_indices = [np.where(y_test == i)[0] for i in range(num_classes)]\n",
        "te_pairs, te_y = create_pairs(x_test, digit_indices)\n",
        "tr_y = tr_y.astype('float32')\n",
        "te_y = te_y.astype('float32')"
      ],
      "execution_count": null,
      "outputs": []
    },
    {
      "cell_type": "code",
      "metadata": {
        "id": "vAkhB9lEGcNW"
      },
      "source": [
        "# network definition\n",
        "base_network = create_base_network(input_shape)\n",
        "\n",
        "input_a = Input(shape=input_shape)\n",
        "input_b = Input(shape=input_shape)\n",
        "\n",
        "# because we re-use the same instance `base_network`,\n",
        "# the weights of the network\n",
        "# will be shared across the two branches\n",
        "processed_a = base_network(input_a)\n",
        "processed_b = base_network(input_b)\n",
        "\n",
        "distance = Lambda(euclidean_distance,\n",
        "                  output_shape=eucl_dist_output_shape)([processed_a, processed_b])\n",
        "\n",
        "model = Model([input_a, input_b], distance)"
      ],
      "execution_count": null,
      "outputs": []
    },
    {
      "cell_type": "code",
      "metadata": {
        "id": "mWw6RY4Nb2Ws",
        "colab": {
          "base_uri": "https://localhost:8080/"
        },
        "outputId": "80f5ba79-9805-4617-9bde-38edb4439779"
      },
      "source": [
        "model.summary()"
      ],
      "execution_count": null,
      "outputs": [
        {
          "output_type": "stream",
          "text": [
            "Model: \"functional_15\"\n",
            "__________________________________________________________________________________________________\n",
            "Layer (type)                    Output Shape         Param #     Connected to                     \n",
            "==================================================================================================\n",
            "input_11 (InputLayer)           [(None, 28, 28)]     0                                            \n",
            "__________________________________________________________________________________________________\n",
            "input_12 (InputLayer)           [(None, 28, 28)]     0                                            \n",
            "__________________________________________________________________________________________________\n",
            "functional_13 (Functional)      (None, 128)          133504      input_11[0][0]                   \n",
            "                                                                 input_12[0][0]                   \n",
            "__________________________________________________________________________________________________\n",
            "lambda_3 (Lambda)               (None, 1)            0           functional_13[0][0]              \n",
            "                                                                 functional_13[1][0]              \n",
            "==================================================================================================\n",
            "Total params: 133,504\n",
            "Trainable params: 133,504\n",
            "Non-trainable params: 0\n",
            "__________________________________________________________________________________________________\n"
          ],
          "name": "stdout"
        }
      ]
    },
    {
      "cell_type": "code",
      "metadata": {
        "id": "CcylAzbSKrCk",
        "colab": {
          "base_uri": "https://localhost:8080/",
          "height": 272
        },
        "outputId": "d1c03268-a3cb-46d2-9cac-6477f2808f16"
      },
      "source": [
        "plot_model(model)"
      ],
      "execution_count": null,
      "outputs": [
        {
          "output_type": "execute_result",
          "data": {
            "image/png": "[encoded data removed]",
            "text/plain": [
              "<IPython.core.display.Image object>"
            ]
          },
          "metadata": {
            "tags": []
          },
          "execution_count": 20
        }
      ]
    },
    {
      "cell_type": "code",
      "metadata": {
        "id": "MnKoTYYRKjfd",
        "colab": {
          "base_uri": "https://localhost:8080/",
          "height": 312
        },
        "outputId": "2fc96c6f-b97c-49b9-90d9-204c4ed65302"
      },
      "source": [
        "plot_model(model, show_shapes=True)"
      ],
      "execution_count": null,
      "outputs": [
        {
          "output_type": "execute_result",
          "data": {
            "image/png": "[encoded data removed]",
            "text/plain": [
              "<IPython.core.display.Image object>"
            ]
          },
          "metadata": {
            "tags": []
          },
          "execution_count": 21
        }
      ]
    },
    {
      "cell_type": "code",
      "metadata": {
        "id": "Q-qcjpNuGPwh",
        "colab": {
          "base_uri": "https://localhost:8080/"
        },
        "outputId": "4837dc74-95fb-4dd3-a24d-78601e013044"
      },
      "source": [
        "# train\n",
        "model.compile(loss=contrastive_loss, optimizer='adam', metrics=['accuracy'])\n",
        "\n",
        "model.fit([tr_pairs[:, 0], tr_pairs[:, 1]], tr_y,\n",
        "          batch_size=128,\n",
        "          epochs=epochs,\n",
        "          validation_data=([te_pairs[:, 0], te_pairs[:, 1]], te_y))"
      ],
      "execution_count": null,
      "outputs": [
        {
          "output_type": "stream",
          "text": [
            "Epoch 1/20\n",
            "847/847 [==============================] - 3s 4ms/step - loss: 0.1085 - accuracy: 0.1357 - val_loss: 0.0491 - val_accuracy: 0.0538\n",
            "Epoch 2/20\n",
            "847/847 [==============================] - 3s 4ms/step - loss: 0.0483 - accuracy: 0.0482 - val_loss: 0.0358 - val_accuracy: 0.0355\n",
            "Epoch 3/20\n",
            "847/847 [==============================] - 3s 4ms/step - loss: 0.0338 - accuracy: 0.0326 - val_loss: 0.0295 - val_accuracy: 0.0315\n",
            "Epoch 4/20\n",
            "847/847 [==============================] - 3s 4ms/step - loss: 0.0265 - accuracy: 0.0260 - val_loss: 0.0276 - val_accuracy: 0.0320\n",
            "Epoch 5/20\n",
            "847/847 [==============================] - 3s 3ms/step - loss: 0.0226 - accuracy: 0.0229 - val_loss: 0.0245 - val_accuracy: 0.0267\n",
            "Epoch 6/20\n",
            "847/847 [==============================] - 3s 4ms/step - loss: 0.0195 - accuracy: 0.0192 - val_loss: 0.0252 - val_accuracy: 0.0296\n",
            "Epoch 7/20\n",
            "847/847 [==============================] - 3s 4ms/step - loss: 0.0173 - accuracy: 0.0177 - val_loss: 0.0241 - val_accuracy: 0.0267\n",
            "Epoch 8/20\n",
            "847/847 [==============================] - 3s 4ms/step - loss: 0.0158 - accuracy: 0.0162 - val_loss: 0.0241 - val_accuracy: 0.0285\n",
            "Epoch 9/20\n",
            "847/847 [==============================] - 3s 3ms/step - loss: 0.0142 - accuracy: 0.0141 - val_loss: 0.0255 - val_accuracy: 0.0300\n",
            "Epoch 10/20\n",
            "847/847 [==============================] - 3s 4ms/step - loss: 0.0135 - accuracy: 0.0137 - val_loss: 0.0244 - val_accuracy: 0.0292\n",
            "Epoch 11/20\n",
            "847/847 [==============================] - 3s 4ms/step - loss: 0.0125 - accuracy: 0.0125 - val_loss: 0.0254 - val_accuracy: 0.0306\n",
            "Epoch 12/20\n",
            "847/847 [==============================] - 3s 4ms/step - loss: 0.0122 - accuracy: 0.0123 - val_loss: 0.0234 - val_accuracy: 0.0272\n",
            "Epoch 13/20\n",
            "847/847 [==============================] - 3s 4ms/step - loss: 0.0117 - accuracy: 0.0121 - val_loss: 0.0256 - val_accuracy: 0.0291\n",
            "Epoch 14/20\n",
            "847/847 [==============================] - 3s 4ms/step - loss: 0.0108 - accuracy: 0.0108 - val_loss: 0.0235 - val_accuracy: 0.0259\n",
            "Epoch 15/20\n",
            "847/847 [==============================] - 3s 4ms/step - loss: 0.0098 - accuracy: 0.0096 - val_loss: 0.0229 - val_accuracy: 0.0252\n",
            "Epoch 16/20\n",
            "847/847 [==============================] - 3s 4ms/step - loss: 0.0096 - accuracy: 0.0092 - val_loss: 0.0232 - val_accuracy: 0.0267\n",
            "Epoch 17/20\n",
            "847/847 [==============================] - 3s 4ms/step - loss: 0.0097 - accuracy: 0.0094 - val_loss: 0.0255 - val_accuracy: 0.0289\n",
            "Epoch 18/20\n",
            "847/847 [==============================] - 3s 4ms/step - loss: 0.0097 - accuracy: 0.0095 - val_loss: 0.0240 - val_accuracy: 0.0272\n",
            "Epoch 19/20\n",
            "847/847 [==============================] - 3s 4ms/step - loss: 0.0091 - accuracy: 0.0090 - val_loss: 0.0243 - val_accuracy: 0.0281\n",
            "Epoch 20/20\n",
            "847/847 [==============================] - 3s 4ms/step - loss: 0.0086 - accuracy: 0.0085 - val_loss: 0.0230 - val_accuracy: 0.0263\n"
          ],
          "name": "stdout"
        },
        {
          "output_type": "execute_result",
          "data": {
            "text/plain": [
              "<tensorflow.python.keras.callbacks.History at 0x7f1745bb4240>"
            ]
          },
          "metadata": {
            "tags": []
          },
          "execution_count": 22
        }
      ]
    },
    {
      "cell_type": "code",
      "metadata": {
        "id": "A-p3UbZdGJF1",
        "colab": {
          "base_uri": "https://localhost:8080/"
        },
        "outputId": "63ba5ff1-48d5-4c24-fb28-45c6d1fbee5b"
      },
      "source": [
        "# compute final accuracy on training and test sets\n",
        "y_pred = model.predict([tr_pairs[:, 0], tr_pairs[:, 1]])\n",
        "tr_acc = compute_accuracy(tr_y, y_pred)\n",
        "y_pred = model.predict([te_pairs[:, 0], te_pairs[:, 1]])\n",
        "te_acc = compute_accuracy(te_y, y_pred)\n",
        "\n",
        "print('* Accuracy on training set: %0.2f%%' % (100 * tr_acc))\n",
        "print('* Accuracy on test set: %0.2f%%' % (100 * te_acc))"
      ],
      "execution_count": null,
      "outputs": [
        {
          "output_type": "stream",
          "text": [
            "* Accuracy on training set: 99.67%\n",
            "* Accuracy on test set: 97.37%\n"
          ],
          "name": "stdout"
        }
      ]
    },
    {
      "cell_type": "code",
      "metadata": {
        "id": "L0Ew7QxRbDp8",
        "colab": {
          "base_uri": "https://localhost:8080/",
          "height": 34
        },
        "outputId": "8731192b-ff62-4c4e-d1e5-380c70bb2ef5"
      },
      "source": [
        ""
      ],
      "execution_count": null,
      "outputs": [
        {
          "output_type": "execute_result",
          "data": {
            "text/plain": [
              "17620"
            ]
          },
          "metadata": {
            "tags": []
          },
          "execution_count": 10
        }
      ]
    },
    {
      "cell_type": "code",
      "metadata": {
        "id": "H6jUIEl7ugjx",
        "colab": {
          "base_uri": "https://localhost:8080/",
          "height": 549
        },
        "outputId": "eda857e8-d41d-4389-e416-d5ef20c02df5"
      },
      "source": [
        "idx = np.random.randint(0, te_pairs.shape[0])\n",
        "print('idx:', idx)\n",
        "print('Same ?: ', te_y[idx])\n",
        "plt.imshow(te_pairs[idx, 0])\n",
        "plt.show()\n",
        "plt.imshow(te_pairs[idx, 1])\n",
        "plt.show()"
      ],
      "execution_count": null,
      "outputs": [
        {
          "output_type": "stream",
          "text": [
            "idx: 4236\n",
            "Same ?:  1.0\n"
          ],
          "name": "stdout"
        },
        {
          "output_type": "display_data",
          "data": {
            "image/png": "[encoded data removed]",
            "text/plain": [
              "<Figure size 432x288 with 1 Axes>"
            ]
          },
          "metadata": {
            "tags": [],
            "needs_background": "light"
          }
        },
        {
          "output_type": "display_data",
          "data": {
            "image/png": "[encoded data removed]",
            "text/plain": [
              "<Figure size 432x288 with 1 Axes>"
            ]
          },
          "metadata": {
            "tags": [],
            "needs_background": "light"
          }
        }
      ]
    },
    {
      "cell_type": "code",
      "metadata": {
        "id": "5Xc61TAbvZnz",
        "colab": {
          "base_uri": "https://localhost:8080/"
        },
        "outputId": "edb871be-4c8a-48df-fc77-41746060d032"
      },
      "source": [
        "model.predict([te_pairs[idx:idx+1, 0], te_pairs[idx:idx+1, 1]])"
      ],
      "execution_count": null,
      "outputs": [
        {
          "output_type": "execute_result",
          "data": {
            "text/plain": [
              "array([[0.02711091]], dtype=float32)"
            ]
          },
          "metadata": {
            "tags": []
          },
          "execution_count": 34
        }
      ]
    },
    {
      "cell_type": "code",
      "metadata": {
        "id": "vmPbsGzZwKmr"
      },
      "source": [
        ""
      ],
      "execution_count": null,
      "outputs": []
    }
  ]
}
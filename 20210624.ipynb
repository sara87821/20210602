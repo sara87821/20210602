{
  "nbformat": 4,
  "nbformat_minor": 0,
  "metadata": {
    "colab": {
      "name": "20210624.ipynb",
      "provenance": [],
      "collapsed_sections": [],
      "include_colab_link": true
    },
    "kernelspec": {
      "name": "python3",
      "display_name": "Python 3"
    },
    "language_info": {
      "name": "python"
    }
  },
  "cells": [
    {
      "cell_type": "markdown",
      "metadata": {
        "id": "view-in-github",
        "colab_type": "text"
      },
      "source": [
        "<a href=\"https://colab.research.google.com/github/sara87821/20210602/blob/main/20210624.ipynb\" target=\"_parent\"><img src=\"https://colab.research.google.com/assets/colab-badge.svg\" alt=\"Open In Colab\"/></a>"
      ]
    },
    {
      "cell_type": "code",
      "metadata": {
        "id": "6i47Q_0Lx_gC"
      },
      "source": [
        "import numpy as np\n",
        "import tensorflow as tf"
      ],
      "execution_count": null,
      "outputs": []
    },
    {
      "cell_type": "code",
      "metadata": {
        "colab": {
          "base_uri": "https://localhost:8080/"
        },
        "id": "LMKGTfrGyDVi",
        "outputId": "27f648cf-7e39-4b06-c24e-372fd7110fb7"
      },
      "source": [
        "# Sparse CategoricalCrossentropy\n",
        "# https://www.tensorflow.org/api_docs/python/tf/keras/losses/SparseCategoricalCrossentropy\n",
        "y_true = np.array([1, 2]) # before one-hot encoding\n",
        "y_pred = np.array([[0.05, 0.95, 0], [0.1, 0.8, 0.1]])\n",
        "print(y_true.shape, y_pred.shape)\n",
        "\n",
        "scce = tf.keras.losses.SparseCategoricalCrossentropy()\n",
        "scce(y_true, y_pred).numpy()\n",
        "\n",
        "# [1, 0, 0] , [0, 0, 1]  [0, 1, 0]"
      ],
      "execution_count": null,
      "outputs": [
        {
          "output_type": "stream",
          "text": [
            "(2,) (2, 3)\n"
          ],
          "name": "stdout"
        },
        {
          "output_type": "execute_result",
          "data": {
            "text/plain": [
              "1.1769392490386963"
            ]
          },
          "metadata": {
            "tags": []
          },
          "execution_count": 6
        }
      ]
    },
    {
      "cell_type": "code",
      "metadata": {
        "colab": {
          "base_uri": "https://localhost:8080/"
        },
        "id": "0cJOo6gqyPmo",
        "outputId": "a0a60478-09eb-4f3e-e41f-9cd08c906a80"
      },
      "source": [
        "# CategoricalCrossentropy\n",
        "# https://www.tensorflow.org/api_docs/python/tf/keras/losses/CategoricalCrossentropy\n",
        "y_true = np.array([[0, 1, 0], [0, 0, 1]])   # [0, 1]  [1, 0]\n",
        "y_pred = np.array([[0.05, 0.95, 0], [0.1, 0.8, 0.1]])  # [0.3, 0.7]\n",
        "print(y_true.shape, y_pred.shape) # (sample size, number of classes)\n",
        "\n",
        "cce = tf.keras.losses.CategoricalCrossentropy()\n",
        "cce(y_true, y_pred).numpy()\n",
        "\n"
      ],
      "execution_count": null,
      "outputs": [
        {
          "output_type": "stream",
          "text": [
            "(2, 3) (2, 3)\n"
          ],
          "name": "stdout"
        },
        {
          "output_type": "execute_result",
          "data": {
            "text/plain": [
              "1.1769392490386963"
            ]
          },
          "metadata": {
            "tags": []
          },
          "execution_count": 7
        }
      ]
    },
    {
      "cell_type": "code",
      "metadata": {
        "id": "qgriEcl8yeWB",
        "colab": {
          "base_uri": "https://localhost:8080/"
        },
        "outputId": "0b4a7d23-a186-4033-cdca-7700724de5b4"
      },
      "source": [
        "# Conv\n",
        "\n",
        "x = np.zeros(shape=(1, 7, 7, 3)) # (bathch_size, img_size, img_size, channels)\n",
        "layer = tf.keras.layers.Conv2D(filters=1, kernel_size=3, padding='same')\n",
        "\n",
        "output = layer(x)\n",
        "print(output.shape)"
      ],
      "execution_count": null,
      "outputs": [
        {
          "output_type": "stream",
          "text": [
            "(1, 7, 7, 1)\n"
          ],
          "name": "stdout"
        }
      ]
    },
    {
      "cell_type": "code",
      "metadata": {
        "colab": {
          "base_uri": "https://localhost:8080/"
        },
        "id": "HvdrbifD_iqN",
        "outputId": "1b409a25-d758-4e26-ac69-6f7e0345ea97"
      },
      "source": [
        "layer2 = tf.keras.layers.Conv2D(filters=1, kernel_size=3, padding='same', strides=2)\n",
        "output = layer2(x)\n",
        "print(output.shape)"
      ],
      "execution_count": null,
      "outputs": [
        {
          "output_type": "stream",
          "text": [
            "(1, 4, 4, 1)\n"
          ],
          "name": "stdout"
        }
      ]
    },
    {
      "cell_type": "code",
      "metadata": {
        "id": "HE7jIWTGAPMq"
      },
      "source": [
        "# Binary Classification\n",
        "\n",
        "# ... \n",
        "layer_output = tf.keras.layers.Dense(units=1, activation='sigmoid') # 0~1   [0.3]\n",
        "loss_function = tf.keras.losses.binary_crossentropy\n",
        "\n",
        "\n",
        "# Multi-class classification\n",
        "\n",
        "# ... \n",
        "layer_output = tf.keras.layers.Dense(units=2, activation='softmax') # [0.7, 0.3] \n",
        "loss_function = tf.keras.losses.categorical_crossentropy\n"
      ],
      "execution_count": null,
      "outputs": []
    }
  ]
}
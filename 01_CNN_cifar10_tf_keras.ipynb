{
  "nbformat": 4,
  "nbformat_minor": 0,
  "metadata": {
    "colab": {
      "name": "01-CNN-cifar10-tf.keras.ipynb",
      "provenance": [],
      "collapsed_sections": [],
      "include_colab_link": true
    },
    "kernelspec": {
      "name": "python3",
      "display_name": "Python 3"
    },
    "accelerator": "GPU"
  },
  "cells": [
    {
      "cell_type": "markdown",
      "metadata": {
        "id": "view-in-github",
        "colab_type": "text"
      },
      "source": [
        "<a href=\"https://colab.research.google.com/github/sara87821/20210602/blob/main/01_CNN_cifar10_tf_keras.ipynb\" target=\"_parent\"><img src=\"https://colab.research.google.com/assets/colab-badge.svg\" alt=\"Open In Colab\"/></a>"
      ]
    },
    {
      "cell_type": "code",
      "metadata": {
        "id": "xZwrBuj9g6jx"
      },
      "source": [
        "from tensorflow.keras import datasets, models, layers, utils, losses, optimizers\n",
        "import numpy as np\n",
        "import matplotlib.pyplot as plt"
      ],
      "execution_count": null,
      "outputs": []
    },
    {
      "cell_type": "code",
      "metadata": {
        "id": "Ssnney6OhM_X"
      },
      "source": [
        "num_classes = 10\n",
        "img_size = 32"
      ],
      "execution_count": null,
      "outputs": []
    },
    {
      "cell_type": "markdown",
      "metadata": {
        "id": "KHrzP6_nh314"
      },
      "source": [
        "#### Load Dataset\n",
        "\n",
        "https://www.cs.toronto.edu/~kriz/cifar.html"
      ]
    },
    {
      "cell_type": "code",
      "metadata": {
        "id": "pgxQ4uyHhPuH"
      },
      "source": [
        "(x_train, y_train), (x_val, y_val) = datasets.cifar10.load_data()"
      ],
      "execution_count": null,
      "outputs": []
    },
    {
      "cell_type": "code",
      "metadata": {
        "colab": {
          "base_uri": "https://localhost:8080/",
          "height": 318
        },
        "id": "GLJKop4MhZEP",
        "outputId": "cdfc1f8c-1e8f-42c9-d37a-f026010e8a14"
      },
      "source": [
        "index = np.random.randint(x_train.shape[0])\n",
        "print('index: ', index)\n",
        "img, label = x_train[index], y_train[index]\n",
        "print('class:', label)\n",
        "plt.imshow(img)"
      ],
      "execution_count": null,
      "outputs": [
        {
          "output_type": "stream",
          "text": [
            "index:  18957\n",
            "class: [9]\n"
          ],
          "name": "stdout"
        },
        {
          "output_type": "execute_result",
          "data": {
            "text/plain": [
              "<matplotlib.image.AxesImage at 0x7fa675e7af10>"
            ]
          },
          "metadata": {
            "tags": []
          },
          "execution_count": 10
        },
        {
          "output_type": "display_data",
          "data": {
            "image/png": "[encoded data removed]",
            "text/plain": [
              "<Figure size 432x288 with 1 Axes>"
            ]
          },
          "metadata": {
            "tags": [],
            "needs_background": "light"
          }
        }
      ]
    },
    {
      "cell_type": "code",
      "metadata": {
        "colab": {
          "base_uri": "https://localhost:8080/"
        },
        "id": "C2Ko1sN1Fbat",
        "outputId": "92c0c3bc-2014-416a-b255-602ffaceb55f"
      },
      "source": [
        "# x_train[0].shape, x_train[0], \n",
        "y_train[0]"
      ],
      "execution_count": null,
      "outputs": [
        {
          "output_type": "execute_result",
          "data": {
            "text/plain": [
              "array([6], dtype=uint8)"
            ]
          },
          "metadata": {
            "tags": []
          },
          "execution_count": 14
        }
      ]
    },
    {
      "cell_type": "markdown",
      "metadata": {
        "id": "nVq24tgMh9UE"
      },
      "source": [
        "#### Preprocess"
      ]
    },
    {
      "cell_type": "code",
      "metadata": {
        "colab": {
          "base_uri": "https://localhost:8080/"
        },
        "id": "gptjCYazhcjo",
        "outputId": "6920da9f-bc05-4cec-dfb6-e9ff35535c9f"
      },
      "source": [
        "# Normalization: 0~1 or -1~1\n",
        "x_train = x_train / 255.\n",
        "x_val = x_val / 255.\n",
        "\n",
        "# ont-hot encoding\n",
        "y_train = utils.to_categorical(y_train, num_classes=num_classes)\n",
        "y_val = utils.to_categorical(y_val, num_classes=num_classes)\n",
        "\n",
        "x_train.shape, x_val.shape, y_train.shape, y_val.shape"
      ],
      "execution_count": null,
      "outputs": [
        {
          "output_type": "execute_result",
          "data": {
            "text/plain": [
              "((50000, 32, 32, 3), (10000, 32, 32, 3), (50000, 10), (10000, 10))"
            ]
          },
          "metadata": {
            "tags": []
          },
          "execution_count": 15
        }
      ]
    },
    {
      "cell_type": "markdown",
      "metadata": {
        "id": "PD-SPxkVjCyZ"
      },
      "source": [
        "#### Build Model"
      ]
    },
    {
      "cell_type": "code",
      "metadata": {
        "id": "iCgqmGFoiWH7"
      },
      "source": [
        "# 1\n",
        "inputs = layers.Input(shape=(img_size, img_size, 3))\n",
        "x = layers.Conv2D(filters=32, kernel_size=3, activation='relu', padding='same')(inputs)\n",
        "x = layers.Conv2D(filters=32, kernel_size=3, activation='relu', padding='same')(x)\n",
        "x = layers.MaxPooling2D(2)(x)\n",
        "x = layers.Conv2D(filters=64, kernel_size=3, activation='relu', padding='same')(x)\n",
        "x = layers.Conv2D(filters=64, kernel_size=3, activation='relu', padding='same')(x)\n",
        "x = layers.MaxPooling2D(2)(x)\n",
        "x = layers.Flatten()(x)\n",
        "x = layers.Dense(512, activation='relu')(x)\n",
        "prediction = layers.Dense(num_classes, activation='softmax')(x)\n",
        "\n",
        "model = models.Model(inputs=inputs, outputs=prediction)"
      ],
      "execution_count": null,
      "outputs": []
    },
    {
      "cell_type": "code",
      "metadata": {
        "colab": {
          "base_uri": "https://localhost:8080/"
        },
        "id": "bKNlT1dXigKt",
        "outputId": "2ce9627f-2b6b-4918-a534-e2c5c303a5e6"
      },
      "source": [
        "model.summary()"
      ],
      "execution_count": null,
      "outputs": [
        {
          "output_type": "stream",
          "text": [
            "Model: \"model\"\n",
            "_________________________________________________________________\n",
            "Layer (type)                 Output Shape              Param #   \n",
            "=================================================================\n",
            "input_1 (InputLayer)         [(None, 32, 32, 3)]       0         \n",
            "_________________________________________________________________\n",
            "conv2d (Conv2D)              (None, 32, 32, 32)        896       \n",
            "_________________________________________________________________\n",
            "conv2d_1 (Conv2D)            (None, 32, 32, 32)        9248      \n",
            "_________________________________________________________________\n",
            "max_pooling2d (MaxPooling2D) (None, 16, 16, 32)        0         \n",
            "_________________________________________________________________\n",
            "conv2d_2 (Conv2D)            (None, 16, 16, 64)        18496     \n",
            "_________________________________________________________________\n",
            "conv2d_3 (Conv2D)            (None, 16, 16, 64)        36928     \n",
            "_________________________________________________________________\n",
            "max_pooling2d_1 (MaxPooling2 (None, 8, 8, 64)          0         \n",
            "_________________________________________________________________\n",
            "flatten (Flatten)            (None, 4096)              0         \n",
            "_________________________________________________________________\n",
            "dense (Dense)                (None, 512)               2097664   \n",
            "_________________________________________________________________\n",
            "dense_1 (Dense)              (None, 10)                5130      \n",
            "=================================================================\n",
            "Total params: 2,168,362\n",
            "Trainable params: 2,168,362\n",
            "Non-trainable params: 0\n",
            "_________________________________________________________________\n"
          ],
          "name": "stdout"
        }
      ]
    },
    {
      "cell_type": "markdown",
      "metadata": {
        "id": "KkSAA-m5jArZ"
      },
      "source": [
        "#### Training"
      ]
    },
    {
      "cell_type": "code",
      "metadata": {
        "id": "S7JhvinNiq4p"
      },
      "source": [
        "model.compile(loss=losses.categorical_crossentropy,\n",
        "              optimizer=optimizers.SGD(),\n",
        "              \n",
        "              metrics=['accuracy'])"
      ],
      "execution_count": null,
      "outputs": []
    },
    {
      "cell_type": "code",
      "metadata": {
        "colab": {
          "base_uri": "https://localhost:8080/"
        },
        "id": "5zUEjqWoit-q",
        "outputId": "c26927a0-6b40-4d63-e6c3-9d634a88cbe7"
      },
      "source": [
        "logs = model.fit(x_train, y_train,\n",
        "                 batch_size=64,\n",
        "                 epochs=10,\n",
        "                 verbose=1,\n",
        "                 validation_data=(x_val, y_val))"
      ],
      "execution_count": null,
      "outputs": [
        {
          "output_type": "stream",
          "text": [
            "Epoch 1/10\n",
            "782/782 [==============================] - 38s 8ms/step - loss: 2.0436 - accuracy: 0.2592 - val_loss: 1.9183 - val_accuracy: 0.3029\n",
            "Epoch 2/10\n",
            "782/782 [==============================] - 6s 7ms/step - loss: 1.6952 - accuracy: 0.3993 - val_loss: 2.1130 - val_accuracy: 0.3162\n",
            "Epoch 3/10\n",
            "782/782 [==============================] - 6s 7ms/step - loss: 1.4812 - accuracy: 0.4728 - val_loss: 1.4926 - val_accuracy: 0.4545\n",
            "Epoch 4/10\n",
            "782/782 [==============================] - 6s 7ms/step - loss: 1.3616 - accuracy: 0.5129 - val_loss: 1.4801 - val_accuracy: 0.4802\n",
            "Epoch 5/10\n",
            "782/782 [==============================] - 6s 7ms/step - loss: 1.2704 - accuracy: 0.5501 - val_loss: 1.3204 - val_accuracy: 0.5363\n",
            "Epoch 6/10\n",
            "782/782 [==============================] - 6s 7ms/step - loss: 1.1845 - accuracy: 0.5819 - val_loss: 1.2588 - val_accuracy: 0.5573\n",
            "Epoch 7/10\n",
            "782/782 [==============================] - 6s 7ms/step - loss: 1.1079 - accuracy: 0.6100 - val_loss: 1.3430 - val_accuracy: 0.5250\n",
            "Epoch 8/10\n",
            "782/782 [==============================] - 6s 7ms/step - loss: 1.0337 - accuracy: 0.6384 - val_loss: 1.1923 - val_accuracy: 0.5781\n",
            "Epoch 9/10\n",
            "782/782 [==============================] - 6s 7ms/step - loss: 0.9676 - accuracy: 0.6623 - val_loss: 1.1867 - val_accuracy: 0.5806\n",
            "Epoch 10/10\n",
            "782/782 [==============================] - 6s 7ms/step - loss: 0.9036 - accuracy: 0.6850 - val_loss: 1.1902 - val_accuracy: 0.5788\n"
          ],
          "name": "stdout"
        }
      ]
    },
    {
      "cell_type": "markdown",
      "metadata": {
        "id": "HD_Yw59Wi-JH"
      },
      "source": [
        "#### Logs"
      ]
    },
    {
      "cell_type": "code",
      "metadata": {
        "id": "nSkmrS5_i4ie"
      },
      "source": [
        "\n",
        "history = logs.history"
      ],
      "execution_count": null,
      "outputs": []
    },
    {
      "cell_type": "code",
      "metadata": {
        "colab": {
          "base_uri": "https://localhost:8080/",
          "height": 299
        },
        "id": "zIbv6UXOlFTd",
        "outputId": "3973a536-b339-470a-cae8-5128786d2393"
      },
      "source": [
        "plt.plot(history['accuracy'])\n",
        "plt.plot(history['val_accuracy'])\n",
        "plt.legend(['accuracy', 'val_accuracy'])\n",
        "plt.title('accuracy')"
      ],
      "execution_count": null,
      "outputs": [
        {
          "output_type": "execute_result",
          "data": {
            "text/plain": [
              "Text(0.5, 1.0, 'accuracy')"
            ]
          },
          "metadata": {
            "tags": []
          },
          "execution_count": 21
        },
        {
          "output_type": "display_data",
          "data": {
            "image/png": "[encoded data removed]",
            "text/plain": [
              "<Figure size 432x288 with 1 Axes>"
            ]
          },
          "metadata": {
            "tags": [],
            "needs_background": "light"
          }
        }
      ]
    },
    {
      "cell_type": "code",
      "metadata": {
        "colab": {
          "base_uri": "https://localhost:8080/",
          "height": 299
        },
        "id": "19sDzfdYlSbD",
        "outputId": "fb32a748-2cbb-45bf-c328-0c3400e47391"
      },
      "source": [
        "plt.plot(history['loss'])\n",
        "plt.plot(history['val_loss'])\n",
        "plt.legend(['loss', 'val_loss'])\n",
        "plt.title('loss')"
      ],
      "execution_count": null,
      "outputs": [
        {
          "output_type": "execute_result",
          "data": {
            "text/plain": [
              "Text(0.5, 1.0, 'loss')"
            ]
          },
          "metadata": {
            "tags": []
          },
          "execution_count": 22
        },
        {
          "output_type": "display_data",
          "data": {
            "image/png": "[encoded data removed]",
            "text/plain": [
              "<Figure size 432x288 with 1 Axes>"
            ]
          },
          "metadata": {
            "tags": [],
            "needs_background": "light"
          }
        }
      ]
    },
    {
      "cell_type": "markdown",
      "metadata": {
        "id": "-d6gMbwGljxB"
      },
      "source": [
        "#### Metrics"
      ]
    },
    {
      "cell_type": "code",
      "metadata": {
        "colab": {
          "base_uri": "https://localhost:8080/"
        },
        "id": "IptGLkCdlUYq",
        "outputId": "c3eef3da-16e8-4a93-82b5-708d006fa74d"
      },
      "source": [
        "from sklearn.metrics import classification_report, confusion_matrix\n",
        "\n",
        "y_true = np.argmax(y_val, axis=-1)\n",
        "prediction = model.predict(x_val)\n",
        "y_pred = np.argmax(prediction, axis=-1)\n",
        "\n",
        "print(y_true.shape, y_pred.shape)"
      ],
      "execution_count": null,
      "outputs": [
        {
          "output_type": "stream",
          "text": [
            "(10000,) (10000,)\n"
          ],
          "name": "stdout"
        }
      ]
    },
    {
      "cell_type": "code",
      "metadata": {
        "colab": {
          "base_uri": "https://localhost:8080/"
        },
        "id": "KwB2DxlHllKF",
        "outputId": "aaca9063-40fb-4bcd-ee92-d1f8cd3aa05d"
      },
      "source": [
        "# classification_report\n",
        "print(classification_report(y_true, y_pred))"
      ],
      "execution_count": null,
      "outputs": [
        {
          "output_type": "stream",
          "text": [
            "              precision    recall  f1-score   support\n",
            "\n",
            "           0       0.59      0.77      0.67      1000\n",
            "           1       0.76      0.69      0.73      1000\n",
            "           2       0.37      0.65      0.47      1000\n",
            "           3       0.43      0.38      0.41      1000\n",
            "           4       0.52      0.60      0.56      1000\n",
            "           5       0.52      0.52      0.52      1000\n",
            "           6       0.70      0.63      0.66      1000\n",
            "           7       0.84      0.53      0.65      1000\n",
            "           8       0.81      0.61      0.69      1000\n",
            "           9       0.79      0.55      0.65      1000\n",
            "\n",
            "    accuracy                           0.59     10000\n",
            "   macro avg       0.63      0.59      0.60     10000\n",
            "weighted avg       0.63      0.59      0.60     10000\n",
            "\n"
          ],
          "name": "stdout"
        }
      ]
    },
    {
      "cell_type": "code",
      "metadata": {
        "colab": {
          "base_uri": "https://localhost:8080/"
        },
        "id": "ZwdODmmNlp5c",
        "outputId": "c02ee3f3-9c94-4e17-a506-da8af407b56f"
      },
      "source": [
        "# Confusion matrix:\n",
        "#   row: Ground truth\n",
        "#   column: predict\n",
        "print(confusion_matrix(y_true, y_pred))"
      ],
      "execution_count": null,
      "outputs": [
        {
          "output_type": "stream",
          "text": [
            "[[766  12 109  15  18   9  14   5  38  14]\n",
            " [ 64 692  63  29  10   8  11   3  32  88]\n",
            " [ 58   3 654  51 128  44  40  14   7   1]\n",
            " [ 24   8 198 380  90 197  78  12   8   5]\n",
            " [ 38   3 191  42 600  36  52  29   8   1]\n",
            " [ 13   2 166 166  71 524  30  19   6   3]\n",
            " [  7   3 162  66  75  45 631   2   6   3]\n",
            " [ 28   1 129  62 119 103  16 527   4  11]\n",
            " [201  43  54  20  27  19   6   1 609  20]\n",
            " [ 99 141  63  44  16  15  20  15  36 551]]\n"
          ],
          "name": "stdout"
        }
      ]
    },
    {
      "cell_type": "markdown",
      "metadata": {
        "id": "BB_JlJoKlvYq"
      },
      "source": [
        "#### Save model"
      ]
    },
    {
      "cell_type": "code",
      "metadata": {
        "id": "KrBCVA72lsMc"
      },
      "source": [
        "# 1. save whole model and weights\n",
        "model.save('my_model.h5')\n",
        "model2 = models.load_model('my_model.h5')"
      ],
      "execution_count": null,
      "outputs": []
    },
    {
      "cell_type": "code",
      "metadata": {
        "id": "1Nc2e-hqlugA"
      },
      "source": [
        "# 2. \n",
        "\n",
        "model.save_weights('weigths.h5')\n",
        "\n",
        "# rebuild model\n",
        "model = build_model()\n",
        "model.load_weights('weigths.h5')"
      ],
      "execution_count": null,
      "outputs": []
    }
  ]
}
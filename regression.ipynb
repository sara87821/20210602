{
  "nbformat": 4,
  "nbformat_minor": 0,
  "metadata": {
    "colab": {
      "name": "regression.ipynb",
      "provenance": [],
      "include_colab_link": true
    },
    "kernelspec": {
      "name": "python3",
      "display_name": "Python 3"
    },
    "language_info": {
      "name": "python"
    }
  },
  "cells": [
    {
      "cell_type": "markdown",
      "metadata": {
        "id": "view-in-github",
        "colab_type": "text"
      },
      "source": [
        "<a href=\"https://colab.research.google.com/github/sara87821/20210602/blob/main/regression.ipynb\" target=\"_parent\"><img src=\"https://colab.research.google.com/assets/colab-badge.svg\" alt=\"Open In Colab\"/></a>"
      ]
    },
    {
      "cell_type": "markdown",
      "metadata": {
        "id": "Jciny2wa2-uB"
      },
      "source": [
        "CRIM：人均犯罪率\n",
        "\n",
        "ZN：25,000平方英尺以上民用土地的比例\n",
        "\n",
        "INDUS：城镇非零售业商用土地比例\n",
        "\n",
        "CHAS：是否邻近查尔斯河，1是邻近，0是不邻近\n",
        "\n",
        "NOX：一氧化氮浓度（千万分之一）\n",
        "\n",
        "RM：住宅的平均房间数\n",
        "\n",
        "AGE：自住且建于1940年前的房屋比例\n",
        "\n",
        "DIS：到5个波士顿就业中心的加权距离\n",
        "\n",
        "RAD：到高速公路的便捷度指数\n",
        "\n",
        "TAX：每万元的房产税率\n",
        "\n",
        "PTRATIO：城镇学生教师比例\n",
        "\n",
        "B： 1000(Bk − 0.63)2 其中Bk是城镇中黑人比例\n",
        "\n",
        "LSTAT：低收入人群比例\n",
        "\n",
        "ans：自住房中位数价格，单位是千"
      ]
    },
    {
      "cell_type": "code",
      "metadata": {
        "colab": {
          "base_uri": "https://localhost:8080/",
          "height": 435
        },
        "id": "4L0qLyPRx_o2",
        "outputId": "d2271e7a-6215-462c-aa44-edc5c6fc12dd"
      },
      "source": [
        "import pandas as pd\n",
        "from sklearn.datasets import load_boston\n",
        "boston = load_boston()\n",
        "# DataFrame: 表格. Series: 一行/一列. \n",
        "df = pd.DataFrame(boston[\"data\"], \n",
        "                  columns=boston[\"feature_names\"])\n",
        "df[\"ans\"] = boston[\"target\"]\n",
        "df.to_csv(\"boston.csv\", encoding=\"utf-8\", index=False)\n",
        "df"
      ],
      "execution_count": 6,
      "outputs": [
        {
          "output_type": "execute_result",
          "data": {
            "text/html": [
              "<div>\n",
              "<style scoped>\n",
              "    .dataframe tbody tr th:only-of-type {\n",
              "        vertical-align: middle;\n",
              "    }\n",
              "\n",
              "    .dataframe tbody tr th {\n",
              "        vertical-align: top;\n",
              "    }\n",
              "\n",
              "    .dataframe thead th {\n",
              "        text-align: right;\n",
              "    }\n",
              "</style>\n",
              "<table border=\"1\" class=\"dataframe\">\n",
              "  <thead>\n",
              "    <tr style=\"text-align: right;\">\n",
              "      <th></th>\n",
              "      <th>CRIM</th>\n",
              "      <th>ZN</th>\n",
              "      <th>INDUS</th>\n",
              "      <th>CHAS</th>\n",
              "      <th>NOX</th>\n",
              "      <th>RM</th>\n",
              "      <th>AGE</th>\n",
              "      <th>DIS</th>\n",
              "      <th>RAD</th>\n",
              "      <th>TAX</th>\n",
              "      <th>PTRATIO</th>\n",
              "      <th>B</th>\n",
              "      <th>LSTAT</th>\n",
              "      <th>ans</th>\n",
              "    </tr>\n",
              "  </thead>\n",
              "  <tbody>\n",
              "    <tr>\n",
              "      <th>0</th>\n",
              "      <td>0.00632</td>\n",
              "      <td>18.0</td>\n",
              "      <td>2.31</td>\n",
              "      <td>0.0</td>\n",
              "      <td>0.538</td>\n",
              "      <td>6.575</td>\n",
              "      <td>65.2</td>\n",
              "      <td>4.0900</td>\n",
              "      <td>1.0</td>\n",
              "      <td>296.0</td>\n",
              "      <td>15.3</td>\n",
              "      <td>396.90</td>\n",
              "      <td>4.98</td>\n",
              "      <td>24.0</td>\n",
              "    </tr>\n",
              "    <tr>\n",
              "      <th>1</th>\n",
              "      <td>0.02731</td>\n",
              "      <td>0.0</td>\n",
              "      <td>7.07</td>\n",
              "      <td>0.0</td>\n",
              "      <td>0.469</td>\n",
              "      <td>6.421</td>\n",
              "      <td>78.9</td>\n",
              "      <td>4.9671</td>\n",
              "      <td>2.0</td>\n",
              "      <td>242.0</td>\n",
              "      <td>17.8</td>\n",
              "      <td>396.90</td>\n",
              "      <td>9.14</td>\n",
              "      <td>21.6</td>\n",
              "    </tr>\n",
              "    <tr>\n",
              "      <th>2</th>\n",
              "      <td>0.02729</td>\n",
              "      <td>0.0</td>\n",
              "      <td>7.07</td>\n",
              "      <td>0.0</td>\n",
              "      <td>0.469</td>\n",
              "      <td>7.185</td>\n",
              "      <td>61.1</td>\n",
              "      <td>4.9671</td>\n",
              "      <td>2.0</td>\n",
              "      <td>242.0</td>\n",
              "      <td>17.8</td>\n",
              "      <td>392.83</td>\n",
              "      <td>4.03</td>\n",
              "      <td>34.7</td>\n",
              "    </tr>\n",
              "    <tr>\n",
              "      <th>3</th>\n",
              "      <td>0.03237</td>\n",
              "      <td>0.0</td>\n",
              "      <td>2.18</td>\n",
              "      <td>0.0</td>\n",
              "      <td>0.458</td>\n",
              "      <td>6.998</td>\n",
              "      <td>45.8</td>\n",
              "      <td>6.0622</td>\n",
              "      <td>3.0</td>\n",
              "      <td>222.0</td>\n",
              "      <td>18.7</td>\n",
              "      <td>394.63</td>\n",
              "      <td>2.94</td>\n",
              "      <td>33.4</td>\n",
              "    </tr>\n",
              "    <tr>\n",
              "      <th>4</th>\n",
              "      <td>0.06905</td>\n",
              "      <td>0.0</td>\n",
              "      <td>2.18</td>\n",
              "      <td>0.0</td>\n",
              "      <td>0.458</td>\n",
              "      <td>7.147</td>\n",
              "      <td>54.2</td>\n",
              "      <td>6.0622</td>\n",
              "      <td>3.0</td>\n",
              "      <td>222.0</td>\n",
              "      <td>18.7</td>\n",
              "      <td>396.90</td>\n",
              "      <td>5.33</td>\n",
              "      <td>36.2</td>\n",
              "    </tr>\n",
              "    <tr>\n",
              "      <th>...</th>\n",
              "      <td>...</td>\n",
              "      <td>...</td>\n",
              "      <td>...</td>\n",
              "      <td>...</td>\n",
              "      <td>...</td>\n",
              "      <td>...</td>\n",
              "      <td>...</td>\n",
              "      <td>...</td>\n",
              "      <td>...</td>\n",
              "      <td>...</td>\n",
              "      <td>...</td>\n",
              "      <td>...</td>\n",
              "      <td>...</td>\n",
              "      <td>...</td>\n",
              "    </tr>\n",
              "    <tr>\n",
              "      <th>501</th>\n",
              "      <td>0.06263</td>\n",
              "      <td>0.0</td>\n",
              "      <td>11.93</td>\n",
              "      <td>0.0</td>\n",
              "      <td>0.573</td>\n",
              "      <td>6.593</td>\n",
              "      <td>69.1</td>\n",
              "      <td>2.4786</td>\n",
              "      <td>1.0</td>\n",
              "      <td>273.0</td>\n",
              "      <td>21.0</td>\n",
              "      <td>391.99</td>\n",
              "      <td>9.67</td>\n",
              "      <td>22.4</td>\n",
              "    </tr>\n",
              "    <tr>\n",
              "      <th>502</th>\n",
              "      <td>0.04527</td>\n",
              "      <td>0.0</td>\n",
              "      <td>11.93</td>\n",
              "      <td>0.0</td>\n",
              "      <td>0.573</td>\n",
              "      <td>6.120</td>\n",
              "      <td>76.7</td>\n",
              "      <td>2.2875</td>\n",
              "      <td>1.0</td>\n",
              "      <td>273.0</td>\n",
              "      <td>21.0</td>\n",
              "      <td>396.90</td>\n",
              "      <td>9.08</td>\n",
              "      <td>20.6</td>\n",
              "    </tr>\n",
              "    <tr>\n",
              "      <th>503</th>\n",
              "      <td>0.06076</td>\n",
              "      <td>0.0</td>\n",
              "      <td>11.93</td>\n",
              "      <td>0.0</td>\n",
              "      <td>0.573</td>\n",
              "      <td>6.976</td>\n",
              "      <td>91.0</td>\n",
              "      <td>2.1675</td>\n",
              "      <td>1.0</td>\n",
              "      <td>273.0</td>\n",
              "      <td>21.0</td>\n",
              "      <td>396.90</td>\n",
              "      <td>5.64</td>\n",
              "      <td>23.9</td>\n",
              "    </tr>\n",
              "    <tr>\n",
              "      <th>504</th>\n",
              "      <td>0.10959</td>\n",
              "      <td>0.0</td>\n",
              "      <td>11.93</td>\n",
              "      <td>0.0</td>\n",
              "      <td>0.573</td>\n",
              "      <td>6.794</td>\n",
              "      <td>89.3</td>\n",
              "      <td>2.3889</td>\n",
              "      <td>1.0</td>\n",
              "      <td>273.0</td>\n",
              "      <td>21.0</td>\n",
              "      <td>393.45</td>\n",
              "      <td>6.48</td>\n",
              "      <td>22.0</td>\n",
              "    </tr>\n",
              "    <tr>\n",
              "      <th>505</th>\n",
              "      <td>0.04741</td>\n",
              "      <td>0.0</td>\n",
              "      <td>11.93</td>\n",
              "      <td>0.0</td>\n",
              "      <td>0.573</td>\n",
              "      <td>6.030</td>\n",
              "      <td>80.8</td>\n",
              "      <td>2.5050</td>\n",
              "      <td>1.0</td>\n",
              "      <td>273.0</td>\n",
              "      <td>21.0</td>\n",
              "      <td>396.90</td>\n",
              "      <td>7.88</td>\n",
              "      <td>11.9</td>\n",
              "    </tr>\n",
              "  </tbody>\n",
              "</table>\n",
              "<p>506 rows × 14 columns</p>\n",
              "</div>"
            ],
            "text/plain": [
              "        CRIM    ZN  INDUS  CHAS    NOX  ...    TAX  PTRATIO       B  LSTAT   ans\n",
              "0    0.00632  18.0   2.31   0.0  0.538  ...  296.0     15.3  396.90   4.98  24.0\n",
              "1    0.02731   0.0   7.07   0.0  0.469  ...  242.0     17.8  396.90   9.14  21.6\n",
              "2    0.02729   0.0   7.07   0.0  0.469  ...  242.0     17.8  392.83   4.03  34.7\n",
              "3    0.03237   0.0   2.18   0.0  0.458  ...  222.0     18.7  394.63   2.94  33.4\n",
              "4    0.06905   0.0   2.18   0.0  0.458  ...  222.0     18.7  396.90   5.33  36.2\n",
              "..       ...   ...    ...   ...    ...  ...    ...      ...     ...    ...   ...\n",
              "501  0.06263   0.0  11.93   0.0  0.573  ...  273.0     21.0  391.99   9.67  22.4\n",
              "502  0.04527   0.0  11.93   0.0  0.573  ...  273.0     21.0  396.90   9.08  20.6\n",
              "503  0.06076   0.0  11.93   0.0  0.573  ...  273.0     21.0  396.90   5.64  23.9\n",
              "504  0.10959   0.0  11.93   0.0  0.573  ...  273.0     21.0  393.45   6.48  22.0\n",
              "505  0.04741   0.0  11.93   0.0  0.573  ...  273.0     21.0  396.90   7.88  11.9\n",
              "\n",
              "[506 rows x 14 columns]"
            ]
          },
          "metadata": {
            "tags": []
          },
          "execution_count": 6
        }
      ]
    },
    {
      "cell_type": "code",
      "metadata": {
        "colab": {
          "base_uri": "https://localhost:8080/"
        },
        "id": "vm0A7uQJOLLP",
        "outputId": "4ac951d3-dc0a-409b-e80a-9f83d2050f77"
      },
      "source": [
        "# sklearn前: pandas.DataFrame\n",
        "# sklearn後: np.array\n",
        "import numpy as np\n",
        "from sklearn.model_selection import train_test_split\n",
        "x, y = np.array(df.drop([\"ans\"], axis=1)), np.array(df[\"ans\"])\n",
        "# 90% x, 10% x, 90% y, 10% y\n",
        "x_train, x_test, y_train, y_test = train_test_split(x, \n",
        "                                                    y,\n",
        "                                                    test_size=0.1)\n",
        "print(x_train.shape)\n",
        "print(x_test.shape)\n",
        "print(y_train.shape)\n",
        "print(y_test.shape)"
      ],
      "execution_count": 7,
      "outputs": [
        {
          "output_type": "stream",
          "text": [
            "(455, 13)\n",
            "(51, 13)\n",
            "(455,)\n",
            "(51,)\n"
          ],
          "name": "stdout"
        }
      ]
    },
    {
      "cell_type": "code",
      "metadata": {
        "colab": {
          "base_uri": "https://localhost:8080/"
        },
        "id": "V2DHn6aAUd7D",
        "outputId": "00518f8e-565b-4829-9ecd-1787b2e08a77"
      },
      "source": [
        "from sklearn.tree import DecisionTreeRegressor\n",
        "reg = DecisionTreeRegressor(max_depth=5)#要調的參數\n",
        "reg.fit(x_train, y_train)"
      ],
      "execution_count": 8,
      "outputs": [
        {
          "output_type": "execute_result",
          "data": {
            "text/plain": [
              "DecisionTreeRegressor(ccp_alpha=0.0, criterion='mse', max_depth=5,\n",
              "                      max_features=None, max_leaf_nodes=None,\n",
              "                      min_impurity_decrease=0.0, min_impurity_split=None,\n",
              "                      min_samples_leaf=1, min_samples_split=2,\n",
              "                      min_weight_fraction_leaf=0.0, presort='deprecated',\n",
              "                      random_state=None, splitter='best')"
            ]
          },
          "metadata": {
            "tags": []
          },
          "execution_count": 8
        }
      ]
    },
    {
      "cell_type": "code",
      "metadata": {
        "colab": {
          "base_uri": "https://localhost:8080/",
          "height": 1000
        },
        "id": "_dwwvxfOZZf7",
        "outputId": "640a265a-7b87-4bab-ba21-2a96fb7bd23a"
      },
      "source": [
        "import matplotlib.pyplot as plt\n",
        "from sklearn.tree import plot_tree\n",
        "plt.figure(figsize=(10, 10))\n",
        "plot_tree(reg, \n",
        "          feature_names=boston[\"feature_names\"],\n",
        "          filled=True)"
      ],
      "execution_count": 9,
      "outputs": [
        {
          "output_type": "execute_result",
          "data": {
            "text/plain": [
              "[Text(292.95, 498.3, 'RM <= 6.941\\nmse = 81.727\\nsamples = 455\\nvalue = 22.626'),\n",
              " Text(130.20000000000002, 407.70000000000005, 'LSTAT <= 14.395\\nmse = 35.822\\nsamples = 382\\nvalue = 19.896'),\n",
              " Text(49.6, 317.1, 'RM <= 6.543\\nmse = 20.581\\nsamples = 229\\nvalue = 23.15'),\n",
              " Text(24.8, 226.5, 'DIS <= 1.207\\nmse = 12.725\\nsamples = 182\\nvalue = 21.893'),\n",
              " Text(12.4, 135.89999999999998, 'mse = 0.0\\nsamples = 1\\nvalue = 50.0'),\n",
              " Text(37.2, 135.89999999999998, 'LSTAT <= 7.555\\nmse = 8.407\\nsamples = 181\\nvalue = 21.738'),\n",
              " Text(24.8, 45.299999999999955, 'mse = 3.119\\nsamples = 37\\nvalue = 24.127'),\n",
              " Text(49.6, 45.299999999999955, 'mse = 7.923\\nsamples = 144\\nvalue = 21.124'),\n",
              " Text(74.4, 226.5, 'DIS <= 1.684\\nmse = 21.217\\nsamples = 47\\nvalue = 28.015'),\n",
              " Text(62.0, 135.89999999999998, 'mse = 0.0\\nsamples = 1\\nvalue = 50.0'),\n",
              " Text(86.8, 135.89999999999998, 'TAX <= 269.0\\nmse = 10.943\\nsamples = 46\\nvalue = 27.537'),\n",
              " Text(74.4, 45.299999999999955, 'mse = 4.869\\nsamples = 14\\nvalue = 30.2'),\n",
              " Text(99.2, 45.299999999999955, 'mse = 9.14\\nsamples = 32\\nvalue = 26.372'),\n",
              " Text(210.8, 317.1, 'NOX <= 0.607\\nmse = 19.08\\nsamples = 153\\nvalue = 15.027'),\n",
              " Text(161.20000000000002, 226.5, 'CRIM <= 0.554\\nmse = 12.546\\nsamples = 61\\nvalue = 18.084'),\n",
              " Text(136.4, 135.89999999999998, 'AGE <= 64.65\\nmse = 7.056\\nsamples = 33\\nvalue = 19.818'),\n",
              " Text(124.0, 45.299999999999955, 'mse = 2.158\\nsamples = 5\\nvalue = 22.64'),\n",
              " Text(148.8, 45.299999999999955, 'mse = 6.255\\nsamples = 28\\nvalue = 19.314'),\n",
              " Text(186.0, 135.89999999999998, 'RM <= 6.843\\nmse = 11.29\\nsamples = 28\\nvalue = 16.039'),\n",
              " Text(173.6, 45.299999999999955, 'mse = 6.663\\nsamples = 27\\nvalue = 15.615'),\n",
              " Text(198.4, 45.299999999999955, 'mse = -0.0\\nsamples = 1\\nvalue = 27.5'),\n",
              " Text(260.40000000000003, 226.5, 'LSTAT <= 19.645\\nmse = 13.109\\nsamples = 92\\nvalue = 13.0'),\n",
              " Text(235.6, 135.89999999999998, 'CRIM <= 12.224\\nmse = 6.649\\nsamples = 44\\nvalue = 15.491'),\n",
              " Text(223.20000000000002, 45.299999999999955, 'mse = 5.184\\nsamples = 40\\nvalue = 15.918'),\n",
              " Text(248.0, 45.299999999999955, 'mse = 1.287\\nsamples = 4\\nvalue = 11.225'),\n",
              " Text(285.2, 135.89999999999998, 'TAX <= 551.5\\nmse = 8.13\\nsamples = 48\\nvalue = 10.717'),\n",
              " Text(272.8, 45.299999999999955, 'mse = 2.664\\nsamples = 8\\nvalue = 14.425'),\n",
              " Text(297.6, 45.299999999999955, 'mse = 5.922\\nsamples = 40\\nvalue = 9.975'),\n",
              " Text(455.7, 407.70000000000005, 'RM <= 7.437\\nmse = 78.929\\nsamples = 73\\nvalue = 36.91'),\n",
              " Text(390.6, 317.1, 'NOX <= 0.659\\nmse = 41.626\\nsamples = 45\\nvalue = 32.0'),\n",
              " Text(359.6, 226.5, 'DIS <= 1.886\\nmse = 20.228\\nsamples = 42\\nvalue = 33.257'),\n",
              " Text(334.8, 135.89999999999998, 'RAD <= 14.5\\nmse = 18.923\\nsamples = 2\\nvalue = 45.65'),\n",
              " Text(322.40000000000003, 45.299999999999955, 'mse = 0.0\\nsamples = 1\\nvalue = 41.3'),\n",
              " Text(347.2, 45.299999999999955, 'mse = 0.0\\nsamples = 1\\nvalue = 50.0'),\n",
              " Text(384.40000000000003, 135.89999999999998, 'NOX <= 0.488\\nmse = 12.23\\nsamples = 40\\nvalue = 32.638'),\n",
              " Text(372.0, 45.299999999999955, 'mse = 4.837\\nsamples = 26\\nvalue = 34.038'),\n",
              " Text(396.8, 45.299999999999955, 'mse = 15.547\\nsamples = 14\\nvalue = 30.036'),\n",
              " Text(421.6, 226.5, 'AGE <= 94.9\\nmse = 9.307\\nsamples = 3\\nvalue = 14.4'),\n",
              " Text(409.2, 135.89999999999998, 'mse = 0.0\\nsamples = 1\\nvalue = 10.4'),\n",
              " Text(434.0, 135.89999999999998, 'B <= 386.385\\nmse = 1.96\\nsamples = 2\\nvalue = 16.4'),\n",
              " Text(421.6, 45.299999999999955, 'mse = 0.0\\nsamples = 1\\nvalue = 17.8'),\n",
              " Text(446.40000000000003, 45.299999999999955, 'mse = 0.0\\nsamples = 1\\nvalue = 15.0'),\n",
              " Text(520.8000000000001, 317.1, 'PTRATIO <= 19.65\\nmse = 37.884\\nsamples = 28\\nvalue = 44.8'),\n",
              " Text(508.40000000000003, 226.5, 'PTRATIO <= 17.6\\nmse = 19.145\\nsamples = 27\\nvalue = 45.648'),\n",
              " Text(483.6, 135.89999999999998, 'CRIM <= 0.577\\nmse = 12.649\\nsamples = 22\\nvalue = 46.918'),\n",
              " Text(471.2, 45.299999999999955, 'mse = 12.495\\nsamples = 16\\nvalue = 45.762'),\n",
              " Text(496.0, 45.299999999999955, 'mse = 0.0\\nsamples = 6\\nvalue = 50.0'),\n",
              " Text(533.2, 135.89999999999998, 'AGE <= 44.35\\nmse = 9.406\\nsamples = 5\\nvalue = 40.06'),\n",
              " Text(520.8000000000001, 45.299999999999955, 'mse = 0.25\\nsamples = 2\\nvalue = 43.3'),\n",
              " Text(545.6, 45.299999999999955, 'mse = 3.847\\nsamples = 3\\nvalue = 37.9'),\n",
              " Text(533.2, 226.5, 'mse = -0.0\\nsamples = 1\\nvalue = 21.9')]"
            ]
          },
          "metadata": {
            "tags": []
          },
          "execution_count": 9
        },
        {
          "output_type": "display_data",
          "data": {
            "image/png": "[encoded data removed]",
            "text/plain": [
              "<Figure size 720x720 with 1 Axes>"
            ]
          },
          "metadata": {
            "tags": [],
            "needs_background": "light"
          }
        }
      ]
    },
    {
      "cell_type": "code",
      "metadata": {
        "colab": {
          "base_uri": "https://localhost:8080/"
        },
        "id": "otezwu_Y_ABx",
        "outputId": "4577f295-5f36-4f2a-8294-2d103e59fb43"
      },
      "source": [
        "from sklearn.metrics import r2_score\n",
        "pre = reg.predict(x_test)\n",
        "r2_score(y_test,pre)\n",
        "# 回頭調參數"
      ],
      "execution_count": 10,
      "outputs": [
        {
          "output_type": "execute_result",
          "data": {
            "text/plain": [
              "0.7844274870226693"
            ]
          },
          "metadata": {
            "tags": []
          },
          "execution_count": 10
        }
      ]
    }
  ]
}